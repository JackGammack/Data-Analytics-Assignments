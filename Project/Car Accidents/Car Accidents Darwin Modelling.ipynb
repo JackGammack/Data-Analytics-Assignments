{
 "cells": [
  {
   "cell_type": "markdown",
   "metadata": {},
   "source": [
    "# Set Darwin SDK"
   ]
  },
  {
   "cell_type": "code",
   "execution_count": 1,
   "metadata": {},
   "outputs": [
    {
     "ename": "ModuleNotFoundError",
     "evalue": "No module named 'amb_sdk'",
     "output_type": "error",
     "traceback": [
      "\u001b[1;31m---------------------------------------------------------------------------\u001b[0m",
      "\u001b[1;31mModuleNotFoundError\u001b[0m                       Traceback (most recent call last)",
      "\u001b[1;32m<ipython-input-1-1375b163c7fc>\u001b[0m in \u001b[0;36m<module>\u001b[1;34m\u001b[0m\n\u001b[1;32m----> 1\u001b[1;33m \u001b[1;32mfrom\u001b[0m \u001b[0mamb_sdk\u001b[0m\u001b[1;33m.\u001b[0m\u001b[0msdk\u001b[0m \u001b[1;32mimport\u001b[0m \u001b[0mDarwinSdk\u001b[0m\u001b[1;33m\u001b[0m\u001b[1;33m\u001b[0m\u001b[0m\n\u001b[0m\u001b[0;32m      2\u001b[0m \u001b[0mds\u001b[0m \u001b[1;33m=\u001b[0m \u001b[0mDarwinSdk\u001b[0m\u001b[1;33m(\u001b[0m\u001b[1;33m)\u001b[0m\u001b[1;33m\u001b[0m\u001b[1;33m\u001b[0m\u001b[0m\n\u001b[0;32m      3\u001b[0m \u001b[0mds\u001b[0m\u001b[1;33m.\u001b[0m\u001b[0mset_url\u001b[0m\u001b[1;33m(\u001b[0m\u001b[1;34m'https://amb-demo-api.sparkcognition.com/v1/'\u001b[0m\u001b[1;33m)\u001b[0m\u001b[1;33m\u001b[0m\u001b[1;33m\u001b[0m\u001b[0m\n",
      "\u001b[1;31mModuleNotFoundError\u001b[0m: No module named 'amb_sdk'"
     ]
    }
   ],
   "source": [
    "from amb_sdk.sdk import DarwinSdk\n",
    "ds = DarwinSdk()\n",
    "ds.set_url('https://amb-demo-api.sparkcognition.com/v1/')"
   ]
  },
  {
   "cell_type": "markdown",
   "metadata": {},
   "source": [
    "# Environment Variables"
   ]
  },
  {
   "cell_type": "code",
   "execution_count": 2,
   "metadata": {},
   "outputs": [],
   "source": [
    "#Set your user id and password accordingly\n",
    "USER=\"jggammack@gmail.com\"\n",
    "PW=\"q8bMeteRPg\"\n",
    "\n",
    "# Modify accordingly if you wish to use your own data\n",
    "\n",
    "# A timestamp is used to create a unique name in the event you execute the workflow multiple times or with \n",
    "# different datasets.  File names must be unique in Darwin.\n",
    "import datetime\n",
    "ts = '{:%Y%m%d%H%M%S}'.format(datetime.datetime.now())"
   ]
  },
  {
   "cell_type": "markdown",
   "metadata": {},
   "source": [
    "# All Imports"
   ]
  },
  {
   "cell_type": "code",
   "execution_count": 3,
   "metadata": {},
   "outputs": [],
   "source": [
    "# Import necessary libraries\n",
    "%matplotlib inline\n",
    "import matplotlib.pyplot as plt\n",
    "import pandas as pd\n",
    "from IPython.display import Image\n",
    "from time import sleep\n",
    "import os\n",
    "import numpy as np\n",
    "from sklearn.metrics import classification_report\n",
    "from sklearn.model_selection import train_test_split"
   ]
  },
  {
   "cell_type": "markdown",
   "metadata": {},
   "source": [
    "# Logs In"
   ]
  },
  {
   "cell_type": "code",
   "execution_count": 4,
   "metadata": {},
   "outputs": [],
   "source": [
    "status, msg = ds.auth_login_user(USER,PW)\n",
    "if not status:\n",
    "    print(msg)"
   ]
  },
  {
   "cell_type": "markdown",
   "metadata": {},
   "source": [
    "# Upload Data and Clean"
   ]
  },
  {
   "cell_type": "markdown",
   "metadata": {},
   "source": [
    "**Read Combined Dataset**"
   ]
  },
  {
   "cell_type": "markdown",
   "metadata": {},
   "source": [
    "Separate data into a training dataset and testing dataset using test_size = 0.2"
   ]
  },
  {
   "cell_type": "code",
   "execution_count": 5,
   "metadata": {},
   "outputs": [
    {
     "name": "stdout",
     "output_type": "stream",
     "text": [
      "(3587, 13)\n",
      "(897, 13)\n"
     ]
    },
    {
     "data": {
      "text/html": [
       "<div>\n",
       "<style scoped>\n",
       "    .dataframe tbody tr th:only-of-type {\n",
       "        vertical-align: middle;\n",
       "    }\n",
       "\n",
       "    .dataframe tbody tr th {\n",
       "        vertical-align: top;\n",
       "    }\n",
       "\n",
       "    .dataframe thead th {\n",
       "        text-align: right;\n",
       "    }\n",
       "</style>\n",
       "<table border=\"1\" class=\"dataframe\">\n",
       "  <thead>\n",
       "    <tr style=\"text-align: right;\">\n",
       "      <th></th>\n",
       "      <th>Accident_Severity</th>\n",
       "      <th>Age_Band_of_Driver</th>\n",
       "      <th>Age_of_Vehicle</th>\n",
       "      <th>Light_Conditions</th>\n",
       "      <th>Road_Surface_Conditions</th>\n",
       "      <th>Road_Type</th>\n",
       "      <th>Sex_of_Driver</th>\n",
       "      <th>Special_Conditions_at_Site</th>\n",
       "      <th>Speed_limit</th>\n",
       "      <th>Towing_and_Articulation</th>\n",
       "      <th>Urban_or_Rural_Area</th>\n",
       "      <th>Vehicle_Type</th>\n",
       "      <th>Weather_Conditions</th>\n",
       "    </tr>\n",
       "  </thead>\n",
       "  <tbody>\n",
       "    <tr>\n",
       "      <th>0</th>\n",
       "      <td>1.0</td>\n",
       "      <td>5.0</td>\n",
       "      <td>1.0</td>\n",
       "      <td>4.0</td>\n",
       "      <td>1.0</td>\n",
       "      <td>6.0</td>\n",
       "      <td>1.0</td>\n",
       "      <td>0.0</td>\n",
       "      <td>30.0</td>\n",
       "      <td>0.0</td>\n",
       "      <td>1.0</td>\n",
       "      <td>9.0</td>\n",
       "      <td>1.0</td>\n",
       "    </tr>\n",
       "    <tr>\n",
       "      <th>1</th>\n",
       "      <td>1.0</td>\n",
       "      <td>7.0</td>\n",
       "      <td>1.0</td>\n",
       "      <td>1.0</td>\n",
       "      <td>4.0</td>\n",
       "      <td>6.0</td>\n",
       "      <td>1.0</td>\n",
       "      <td>0.0</td>\n",
       "      <td>30.0</td>\n",
       "      <td>0.0</td>\n",
       "      <td>1.0</td>\n",
       "      <td>20.0</td>\n",
       "      <td>1.0</td>\n",
       "    </tr>\n",
       "    <tr>\n",
       "      <th>2</th>\n",
       "      <td>1.0</td>\n",
       "      <td>8.0</td>\n",
       "      <td>2.0</td>\n",
       "      <td>1.0</td>\n",
       "      <td>4.0</td>\n",
       "      <td>6.0</td>\n",
       "      <td>1.0</td>\n",
       "      <td>0.0</td>\n",
       "      <td>30.0</td>\n",
       "      <td>0.0</td>\n",
       "      <td>1.0</td>\n",
       "      <td>3.0</td>\n",
       "      <td>1.0</td>\n",
       "    </tr>\n",
       "    <tr>\n",
       "      <th>3</th>\n",
       "      <td>1.0</td>\n",
       "      <td>10.0</td>\n",
       "      <td>3.0</td>\n",
       "      <td>4.0</td>\n",
       "      <td>1.0</td>\n",
       "      <td>3.0</td>\n",
       "      <td>1.0</td>\n",
       "      <td>0.0</td>\n",
       "      <td>40.0</td>\n",
       "      <td>0.0</td>\n",
       "      <td>1.0</td>\n",
       "      <td>19.0</td>\n",
       "      <td>1.0</td>\n",
       "    </tr>\n",
       "    <tr>\n",
       "      <th>4</th>\n",
       "      <td>1.0</td>\n",
       "      <td>8.0</td>\n",
       "      <td>4.0</td>\n",
       "      <td>4.0</td>\n",
       "      <td>1.0</td>\n",
       "      <td>3.0</td>\n",
       "      <td>1.0</td>\n",
       "      <td>0.0</td>\n",
       "      <td>40.0</td>\n",
       "      <td>0.0</td>\n",
       "      <td>1.0</td>\n",
       "      <td>5.0</td>\n",
       "      <td>1.0</td>\n",
       "    </tr>\n",
       "  </tbody>\n",
       "</table>\n",
       "</div>"
      ],
      "text/plain": [
       "   Accident_Severity  Age_Band_of_Driver  Age_of_Vehicle  Light_Conditions  \\\n",
       "0                1.0                 5.0             1.0               4.0   \n",
       "1                1.0                 7.0             1.0               1.0   \n",
       "2                1.0                 8.0             2.0               1.0   \n",
       "3                1.0                10.0             3.0               4.0   \n",
       "4                1.0                 8.0             4.0               4.0   \n",
       "\n",
       "   Road_Surface_Conditions  Road_Type  Sex_of_Driver  \\\n",
       "0                      1.0        6.0            1.0   \n",
       "1                      4.0        6.0            1.0   \n",
       "2                      4.0        6.0            1.0   \n",
       "3                      1.0        3.0            1.0   \n",
       "4                      1.0        3.0            1.0   \n",
       "\n",
       "   Special_Conditions_at_Site  Speed_limit  Towing_and_Articulation  \\\n",
       "0                         0.0         30.0                      0.0   \n",
       "1                         0.0         30.0                      0.0   \n",
       "2                         0.0         30.0                      0.0   \n",
       "3                         0.0         40.0                      0.0   \n",
       "4                         0.0         40.0                      0.0   \n",
       "\n",
       "   Urban_or_Rural_Area  Vehicle_Type  Weather_Conditions  \n",
       "0                  1.0           9.0                 1.0  \n",
       "1                  1.0          20.0                 1.0  \n",
       "2                  1.0           3.0                 1.0  \n",
       "3                  1.0          19.0                 1.0  \n",
       "4                  1.0           5.0                 1.0  "
      ]
     },
     "execution_count": 5,
     "metadata": {},
     "output_type": "execute_result"
    }
   ],
   "source": [
    "Undersampled_Dataset = pd.read_csv('Undersampled Dataset AV.csv',low_memory=False)\n",
    "TRAIN_DATASET, TEST_DATASET = train_test_split(Undersampled_Dataset,test_size=0.2)\n",
    "print(TRAIN_DATASET.shape)\n",
    "print(TEST_DATASET.shape)\n",
    "TRAIN_DATASET.to_csv('TRAIN_DATASET.csv',index=False)\n",
    "TEST_DATASET.to_csv('TEST_DATASET.csv',index=False)\n",
    "TRAIN_DATASET = 'TRAIN_DATASET.csv'\n",
    "TEST_DATASET = 'TEST_DATASET.csv'\n",
    "Undersampled_Dataset.head()"
   ]
  },
  {
   "cell_type": "code",
   "execution_count": 6,
   "metadata": {},
   "outputs": [
    {
     "name": "stdout",
     "output_type": "stream",
     "text": [
      "(3587, 13)\n"
     ]
    },
    {
     "data": {
      "text/html": [
       "<div>\n",
       "<style scoped>\n",
       "    .dataframe tbody tr th:only-of-type {\n",
       "        vertical-align: middle;\n",
       "    }\n",
       "\n",
       "    .dataframe tbody tr th {\n",
       "        vertical-align: top;\n",
       "    }\n",
       "\n",
       "    .dataframe thead th {\n",
       "        text-align: right;\n",
       "    }\n",
       "</style>\n",
       "<table border=\"1\" class=\"dataframe\">\n",
       "  <thead>\n",
       "    <tr style=\"text-align: right;\">\n",
       "      <th></th>\n",
       "      <th>Accident_Severity</th>\n",
       "      <th>Age_Band_of_Driver</th>\n",
       "      <th>Age_of_Vehicle</th>\n",
       "      <th>Light_Conditions</th>\n",
       "      <th>Road_Surface_Conditions</th>\n",
       "      <th>Road_Type</th>\n",
       "      <th>Sex_of_Driver</th>\n",
       "      <th>Special_Conditions_at_Site</th>\n",
       "      <th>Speed_limit</th>\n",
       "      <th>Towing_and_Articulation</th>\n",
       "      <th>Urban_or_Rural_Area</th>\n",
       "      <th>Vehicle_Type</th>\n",
       "      <th>Weather_Conditions</th>\n",
       "    </tr>\n",
       "  </thead>\n",
       "  <tbody>\n",
       "    <tr>\n",
       "      <th>0</th>\n",
       "      <td>3.0</td>\n",
       "      <td>6.0</td>\n",
       "      <td>3.0</td>\n",
       "      <td>1.0</td>\n",
       "      <td>1.0</td>\n",
       "      <td>6.0</td>\n",
       "      <td>2.0</td>\n",
       "      <td>0.0</td>\n",
       "      <td>30.0</td>\n",
       "      <td>0.0</td>\n",
       "      <td>1.0</td>\n",
       "      <td>9.0</td>\n",
       "      <td>1.0</td>\n",
       "    </tr>\n",
       "    <tr>\n",
       "      <th>1</th>\n",
       "      <td>1.0</td>\n",
       "      <td>4.0</td>\n",
       "      <td>4.0</td>\n",
       "      <td>1.0</td>\n",
       "      <td>1.0</td>\n",
       "      <td>6.0</td>\n",
       "      <td>1.0</td>\n",
       "      <td>0.0</td>\n",
       "      <td>60.0</td>\n",
       "      <td>0.0</td>\n",
       "      <td>2.0</td>\n",
       "      <td>9.0</td>\n",
       "      <td>1.0</td>\n",
       "    </tr>\n",
       "    <tr>\n",
       "      <th>2</th>\n",
       "      <td>1.0</td>\n",
       "      <td>9.0</td>\n",
       "      <td>1.0</td>\n",
       "      <td>4.0</td>\n",
       "      <td>2.0</td>\n",
       "      <td>6.0</td>\n",
       "      <td>1.0</td>\n",
       "      <td>0.0</td>\n",
       "      <td>30.0</td>\n",
       "      <td>1.0</td>\n",
       "      <td>2.0</td>\n",
       "      <td>21.0</td>\n",
       "      <td>2.0</td>\n",
       "    </tr>\n",
       "    <tr>\n",
       "      <th>3</th>\n",
       "      <td>1.0</td>\n",
       "      <td>9.0</td>\n",
       "      <td>2.0</td>\n",
       "      <td>1.0</td>\n",
       "      <td>1.0</td>\n",
       "      <td>6.0</td>\n",
       "      <td>1.0</td>\n",
       "      <td>0.0</td>\n",
       "      <td>60.0</td>\n",
       "      <td>0.0</td>\n",
       "      <td>2.0</td>\n",
       "      <td>5.0</td>\n",
       "      <td>1.0</td>\n",
       "    </tr>\n",
       "    <tr>\n",
       "      <th>4</th>\n",
       "      <td>3.0</td>\n",
       "      <td>5.0</td>\n",
       "      <td>2.0</td>\n",
       "      <td>1.0</td>\n",
       "      <td>1.0</td>\n",
       "      <td>3.0</td>\n",
       "      <td>2.0</td>\n",
       "      <td>0.0</td>\n",
       "      <td>30.0</td>\n",
       "      <td>0.0</td>\n",
       "      <td>1.0</td>\n",
       "      <td>9.0</td>\n",
       "      <td>1.0</td>\n",
       "    </tr>\n",
       "  </tbody>\n",
       "</table>\n",
       "</div>"
      ],
      "text/plain": [
       "   Accident_Severity  Age_Band_of_Driver  Age_of_Vehicle  Light_Conditions  \\\n",
       "0                3.0                 6.0             3.0               1.0   \n",
       "1                1.0                 4.0             4.0               1.0   \n",
       "2                1.0                 9.0             1.0               4.0   \n",
       "3                1.0                 9.0             2.0               1.0   \n",
       "4                3.0                 5.0             2.0               1.0   \n",
       "\n",
       "   Road_Surface_Conditions  Road_Type  Sex_of_Driver  \\\n",
       "0                      1.0        6.0            2.0   \n",
       "1                      1.0        6.0            1.0   \n",
       "2                      2.0        6.0            1.0   \n",
       "3                      1.0        6.0            1.0   \n",
       "4                      1.0        3.0            2.0   \n",
       "\n",
       "   Special_Conditions_at_Site  Speed_limit  Towing_and_Articulation  \\\n",
       "0                         0.0         30.0                      0.0   \n",
       "1                         0.0         60.0                      0.0   \n",
       "2                         0.0         30.0                      1.0   \n",
       "3                         0.0         60.0                      0.0   \n",
       "4                         0.0         30.0                      0.0   \n",
       "\n",
       "   Urban_or_Rural_Area  Vehicle_Type  Weather_Conditions  \n",
       "0                  1.0           9.0                 1.0  \n",
       "1                  2.0           9.0                 1.0  \n",
       "2                  2.0          21.0                 2.0  \n",
       "3                  2.0           5.0                 1.0  \n",
       "4                  1.0           9.0                 1.0  "
      ]
     },
     "execution_count": 6,
     "metadata": {},
     "output_type": "execute_result"
    }
   ],
   "source": [
    "# Preview dataset\n",
    "df = pd.read_csv(TRAIN_DATASET)\n",
    "print(df.shape)\n",
    "df.head()"
   ]
  },
  {
   "cell_type": "markdown",
   "metadata": {},
   "source": [
    "**Upload Dataset to Darwin**"
   ]
  },
  {
   "cell_type": "code",
   "execution_count": 7,
   "metadata": {
    "scrolled": true
   },
   "outputs": [
    {
     "name": "stdout",
     "output_type": "stream",
     "text": [
      "Deleting TRAIN_DATASET.csv\n",
      "Deleting TEST_DATASET.csv\n"
     ]
    },
    {
     "data": {
      "text/plain": [
       "(True,\n",
       " [{'name': 'TRAIN_DATASET.csv',\n",
       "   'mbytes': 0.1858081817626953,\n",
       "   'minimum_recommeded_train_time': '5 minutes',\n",
       "   'updated_at': '2019-05-05T20:00:59.843246',\n",
       "   'categorical': None,\n",
       "   'sequential': None,\n",
       "   'imbalanced': None}])"
      ]
     },
     "execution_count": 7,
     "metadata": {},
     "output_type": "execute_result"
    }
   ],
   "source": [
    "# Upload dataset\n",
    "ds.delete_all_datasets()\n",
    "status, dataset = ds.upload_dataset(TRAIN_DATASET)\n",
    "if not status:\n",
    "    print(dataset)\n",
    "ds.lookup_dataset()"
   ]
  },
  {
   "cell_type": "markdown",
   "metadata": {},
   "source": [
    "**Clean Dataset**"
   ]
  },
  {
   "cell_type": "code",
   "execution_count": 8,
   "metadata": {
    "scrolled": false
   },
   "outputs": [
    {
     "name": "stdout",
     "output_type": "stream",
     "text": [
      "{'status': 'Requested', 'starttime': '2019-05-05T20:01:00.982911', 'endtime': None, 'percent_complete': 0, 'job_type': 'CleanDataTiny', 'loss': None, 'generations': None, 'dataset_names': ['TRAIN_DATASET.csv'], 'artifact_names': ['4d62bc55b0414e6c94e60e1e2f52e770'], 'model_name': None, 'job_error': None}\n",
      "{'status': 'Complete', 'starttime': '2019-05-05T20:01:00.982911', 'endtime': '2019-05-05T20:01:05.758385', 'percent_complete': 100, 'job_type': 'CleanDataTiny', 'loss': None, 'generations': None, 'dataset_names': ['TRAIN_DATASET.csv'], 'artifact_names': ['4d62bc55b0414e6c94e60e1e2f52e770'], 'model_name': None, 'job_error': ''}\n"
     ]
    }
   ],
   "source": [
    "# clean dataset\n",
    "target = \"Accident_Severity\"\n",
    "status, job_id = ds.clean_data(TRAIN_DATASET, target = target)\n",
    "\n",
    "if status:\n",
    "    ds.wait_for_job(job_id['job_name'],time_limit=1800)\n",
    "else:\n",
    "    print(job_id)"
   ]
  },
  {
   "cell_type": "markdown",
   "metadata": {},
   "source": [
    "# Create and Train Model "
   ]
  },
  {
   "cell_type": "markdown",
   "metadata": {},
   "source": [
    "We will now build a model that will learn the class labels in the target column.<br> In the dataset, the target column is \"Accident_Severity\". <br> \n"
   ]
  },
  {
   "cell_type": "code",
   "execution_count": 9,
   "metadata": {
    "scrolled": true
   },
   "outputs": [
    {
     "name": "stdout",
     "output_type": "stream",
     "text": [
      "{'status': 'Requested', 'starttime': '2019-05-05T20:01:17.319293', 'endtime': None, 'percent_complete': 0, 'job_type': 'TrainModel', 'loss': None, 'generations': 0, 'dataset_names': ['TRAIN_DATASET.csv'], 'artifact_names': None, 'model_name': 'Accident_Severity_model020190505200045', 'job_error': None}\n",
      "{'status': 'Running', 'starttime': '2019-05-05T20:01:17.319293', 'endtime': None, 'percent_complete': 0, 'job_type': 'TrainModel', 'loss': 0.6128493547439575, 'generations': 4, 'dataset_names': ['TRAIN_DATASET.csv'], 'artifact_names': None, 'model_name': 'Accident_Severity_model020190505200045', 'job_error': ''}\n",
      "{'status': 'Running', 'starttime': '2019-05-05T20:01:17.319293', 'endtime': None, 'percent_complete': 0, 'job_type': 'TrainModel', 'loss': 0.6128493547439575, 'generations': 4, 'dataset_names': ['TRAIN_DATASET.csv'], 'artifact_names': None, 'model_name': 'Accident_Severity_model020190505200045', 'job_error': ''}\n",
      "{'status': 'Running', 'starttime': '2019-05-05T20:01:17.319293', 'endtime': None, 'percent_complete': 0, 'job_type': 'TrainModel', 'loss': 0.6128493547439575, 'generations': 4, 'dataset_names': ['TRAIN_DATASET.csv'], 'artifact_names': None, 'model_name': 'Accident_Severity_model020190505200045', 'job_error': ''}\n",
      "{'status': 'Running', 'starttime': '2019-05-05T20:01:17.319293', 'endtime': None, 'percent_complete': 0, 'job_type': 'TrainModel', 'loss': 0.6128493547439575, 'generations': 4, 'dataset_names': ['TRAIN_DATASET.csv'], 'artifact_names': None, 'model_name': 'Accident_Severity_model020190505200045', 'job_error': ''}\n",
      "{'status': 'Running', 'starttime': '2019-05-05T20:01:17.319293', 'endtime': None, 'percent_complete': 3, 'job_type': 'TrainModel', 'loss': 0.6128493547439575, 'generations': 4, 'dataset_names': ['TRAIN_DATASET.csv'], 'artifact_names': None, 'model_name': 'Accident_Severity_model020190505200045', 'job_error': ''}\n",
      "{'status': 'Running', 'starttime': '2019-05-05T20:01:17.319293', 'endtime': None, 'percent_complete': 4, 'job_type': 'TrainModel', 'loss': 0.6128493547439575, 'generations': 4, 'dataset_names': ['TRAIN_DATASET.csv'], 'artifact_names': None, 'model_name': 'Accident_Severity_model020190505200045', 'job_error': ''}\n",
      "{'status': 'Running', 'starttime': '2019-05-05T20:01:17.319293', 'endtime': None, 'percent_complete': 5, 'job_type': 'TrainModel', 'loss': 0.6128493547439575, 'generations': 4, 'dataset_names': ['TRAIN_DATASET.csv'], 'artifact_names': None, 'model_name': 'Accident_Severity_model020190505200045', 'job_error': ''}\n",
      "{'status': 'Running', 'starttime': '2019-05-05T20:01:17.319293', 'endtime': None, 'percent_complete': 5, 'job_type': 'TrainModel', 'loss': 0.6128493547439575, 'generations': 4, 'dataset_names': ['TRAIN_DATASET.csv'], 'artifact_names': None, 'model_name': 'Accident_Severity_model020190505200045', 'job_error': ''}\n",
      "{'status': 'Complete', 'starttime': '2019-05-05T20:01:17.319293', 'endtime': '2019-05-05T20:03:29.154282', 'percent_complete': 100, 'job_type': 'TrainModel', 'loss': 0.6128493547439575, 'generations': 4, 'dataset_names': ['TRAIN_DATASET.csv'], 'artifact_names': None, 'model_name': 'Accident_Severity_model020190505200045', 'job_error': ''}\n"
     ]
    }
   ],
   "source": [
    "model = target + \"_model0\" + ts\n",
    "ds.delete_model(model)\n",
    "status, job_id = ds.create_model(dataset_names = TRAIN_DATASET, \\\n",
    "                                 model_name =  model, \\\n",
    "                                 max_train_time = '00:30')\n",
    "if status:\n",
    "    ds.wait_for_job(job_id['job_name'],time_limit=1800)\n",
    "else:\n",
    "    print(job_id)"
   ]
  },
  {
   "cell_type": "markdown",
   "metadata": {},
   "source": [
    "# Extra Training\n",
    "Run the following cell for extra training, no need to specify parameters"
   ]
  },
  {
   "cell_type": "code",
   "execution_count": 10,
   "metadata": {},
   "outputs": [
    {
     "name": "stdout",
     "output_type": "stream",
     "text": [
      "{'status': 'Requested', 'starttime': '2019-05-05T20:03:34.04274', 'endtime': None, 'percent_complete': 0, 'job_type': 'UpdateModel', 'loss': 0.6128493547439575, 'generations': 4, 'dataset_names': ['TRAIN_DATASET.csv'], 'artifact_names': None, 'model_name': 'Accident_Severity_model020190505200045', 'job_error': None}\n",
      "{'status': 'Running', 'starttime': '2019-05-05T20:03:34.04274', 'endtime': None, 'percent_complete': 0, 'job_type': 'UpdateModel', 'loss': 0.6128493547439575, 'generations': 7, 'dataset_names': ['TRAIN_DATASET.csv'], 'artifact_names': None, 'model_name': 'Accident_Severity_model020190505200045', 'job_error': ''}\n",
      "{'status': 'Running', 'starttime': '2019-05-05T20:03:34.04274', 'endtime': None, 'percent_complete': 0, 'job_type': 'UpdateModel', 'loss': 0.6128493547439575, 'generations': 7, 'dataset_names': ['TRAIN_DATASET.csv'], 'artifact_names': None, 'model_name': 'Accident_Severity_model020190505200045', 'job_error': ''}\n",
      "{'status': 'Running', 'starttime': '2019-05-05T20:03:34.04274', 'endtime': None, 'percent_complete': 0, 'job_type': 'UpdateModel', 'loss': 0.6128493547439575, 'generations': 7, 'dataset_names': ['TRAIN_DATASET.csv'], 'artifact_names': None, 'model_name': 'Accident_Severity_model020190505200045', 'job_error': ''}\n",
      "{'status': 'Running', 'starttime': '2019-05-05T20:03:34.04274', 'endtime': None, 'percent_complete': 0, 'job_type': 'UpdateModel', 'loss': 0.6128493547439575, 'generations': 7, 'dataset_names': ['TRAIN_DATASET.csv'], 'artifact_names': None, 'model_name': 'Accident_Severity_model020190505200045', 'job_error': ''}\n",
      "{'status': 'Running', 'starttime': '2019-05-05T20:03:34.04274', 'endtime': None, 'percent_complete': 3, 'job_type': 'UpdateModel', 'loss': 0.6128493547439575, 'generations': 7, 'dataset_names': ['TRAIN_DATASET.csv'], 'artifact_names': None, 'model_name': 'Accident_Severity_model020190505200045', 'job_error': ''}\n",
      "{'status': 'Running', 'starttime': '2019-05-05T20:03:34.04274', 'endtime': None, 'percent_complete': 3, 'job_type': 'UpdateModel', 'loss': 0.6128493547439575, 'generations': 7, 'dataset_names': ['TRAIN_DATASET.csv'], 'artifact_names': None, 'model_name': 'Accident_Severity_model020190505200045', 'job_error': ''}\n",
      "{'status': 'Running', 'starttime': '2019-05-05T20:03:34.04274', 'endtime': None, 'percent_complete': 4, 'job_type': 'UpdateModel', 'loss': 0.6128493547439575, 'generations': 7, 'dataset_names': ['TRAIN_DATASET.csv'], 'artifact_names': None, 'model_name': 'Accident_Severity_model020190505200045', 'job_error': ''}\n",
      "{'status': 'Complete', 'starttime': '2019-05-05T20:03:34.04274', 'endtime': '2019-05-05T20:05:34.232183', 'percent_complete': 100, 'job_type': 'UpdateModel', 'loss': 0.6128493547439575, 'generations': 7, 'dataset_names': ['TRAIN_DATASET.csv'], 'artifact_names': None, 'model_name': 'Accident_Severity_model020190505200045', 'job_error': ''}\n"
     ]
    }
   ],
   "source": [
    "# Train some more\n",
    "status, job_id = ds.resume_training_model(dataset_names = TRAIN_DATASET,\n",
    "                                          model_name = model,\n",
    "                                          max_train_time = '00:30')\n",
    "                                          \n",
    "if status:\n",
    "    ds.wait_for_job(job_id['job_name'],time_limit=1800)\n",
    "else:\n",
    "    print(job_id)"
   ]
  },
  {
   "cell_type": "markdown",
   "metadata": {},
   "source": [
    "# Analyze Model\n",
    "Analyze model provides feature importance ranked by the model. <br> It indicates a general view of which features pose a bigger impact on the model"
   ]
  },
  {
   "cell_type": "code",
   "execution_count": 11,
   "metadata": {
    "scrolled": true
   },
   "outputs": [
    {
     "name": "stdout",
     "output_type": "stream",
     "text": [
      "{'status': 'Running', 'starttime': '2019-05-05T20:05:35.719359', 'endtime': None, 'percent_complete': 0, 'job_type': 'AnalyzeModel', 'loss': 0.6128493547439575, 'generations': 7, 'dataset_names': None, 'artifact_names': ['f40bb15ed0fb4f599695ea7e537d74ef'], 'model_name': 'Accident_Severity_model020190505200045', 'job_error': ''}\n",
      "{'status': 'Complete', 'starttime': '2019-05-05T20:05:35.719359', 'endtime': '2019-05-05T20:05:38.363878', 'percent_complete': 100, 'job_type': 'AnalyzeModel', 'loss': 0.6128493547439575, 'generations': 7, 'dataset_names': None, 'artifact_names': ['f40bb15ed0fb4f599695ea7e537d74ef'], 'model_name': 'Accident_Severity_model020190505200045', 'job_error': ''}\n"
     ]
    }
   ],
   "source": [
    "# Retrieve feature importance of built model\n",
    "status, artifact = ds.analyze_model(model)\n",
    "sleep(1)\n",
    "if status:\n",
    "    ds.wait_for_job(artifact['job_name'],time_limit=1800)\n",
    "else:\n",
    "    print(artifact)\n",
    "status, feature_importance = ds.download_artifact(artifact['artifact_name'])"
   ]
  },
  {
   "cell_type": "markdown",
   "metadata": {},
   "source": [
    "Show the 10 most important features of the model."
   ]
  },
  {
   "cell_type": "code",
   "execution_count": 22,
   "metadata": {},
   "outputs": [
    {
     "data": {
      "text/plain": [
       "Speed_limit = 30.0                  2.521076e-01\n",
       "Urban_or_Rural_Area = 2.0           2.290131e-01\n",
       "Speed_limit = 60.0                  1.154961e-01\n",
       "Vehicle_Type = 5.0                  4.549620e-02\n",
       "Vehicle_Type = 21.0                 3.651953e-02\n",
       "Sex_of_Driver = 2.0                 3.438531e-02\n",
       "Light_Conditions = 6.0              2.948037e-02\n",
       "Light_Conditions = 4.0              2.194067e-02\n",
       "Speed_limit = 40.0                  2.154502e-02\n",
       "Speed_limit = 50.0                  1.881343e-02\n",
       "Road_Type = 6.0                     1.799933e-02\n",
       "Road_Type = 3.0                     1.766510e-02\n",
       "Speed_limit = 70.0                  1.511270e-02\n",
       "Vehicle_Type = 9.0                  1.491604e-02\n",
       "Weather_Conditions = 2.0            1.175039e-02\n",
       "Age_Band_of_Driver = 5.0            1.078265e-02\n",
       "Age_of_Vehicle = 2.0                1.037542e-02\n",
       "Towing_and_Articulation = 1.0       9.868593e-03\n",
       "Road_Surface_Conditions = 2.0       9.525706e-03\n",
       "Age_of_Vehicle = 4.0                8.354034e-03\n",
       "Age_of_Vehicle = 3.0                6.890754e-03\n",
       "Age_Band_of_Driver = 6.0            6.112053e-03\n",
       "Age_Band_of_Driver = 7.0            5.025842e-03\n",
       "Age_Band_of_Driver = 8.0            4.947199e-03\n",
       "Vehicle_Type = 19.0                 3.863651e-03\n",
       "Age_Band_of_Driver = 9.0            3.824438e-03\n",
       "Age_Band_of_Driver = 10.0           3.342494e-03\n",
       "Vehicle_Type = 3.0                  2.957844e-03\n",
       "Age_Band_of_Driver = 4.0            2.952168e-03\n",
       "Road_Type = 2.0                     2.932712e-03\n",
       "                                        ...     \n",
       "Vehicle_Type = 11.0                 1.300566e-03\n",
       "Light_Conditions = 7.0              1.270881e-03\n",
       "Road_Surface_Conditions = 4.0       1.229415e-03\n",
       "Vehicle_Type = 4.0                  1.183229e-03\n",
       "Weather_Conditions = 8.0            1.114544e-03\n",
       "Age_of_Vehicle = 7.0                8.709259e-04\n",
       "Weather_Conditions = 5.0            8.221405e-04\n",
       "Vehicle_Type = 20.0                 7.029559e-04\n",
       "Age_of_Vehicle = 6.0                6.176508e-04\n",
       "Towing_and_Articulation = 4.0       6.111897e-04\n",
       "Weather_Conditions = 7.0            5.150169e-04\n",
       "Road_Type = 9.0                     4.538001e-04\n",
       "Weather_Conditions = 9.0            4.337176e-04\n",
       "Vehicle_Type = 17.0                 3.240498e-04\n",
       "Special_Conditions_at_Site = 3.0    3.162869e-04\n",
       "Special_Conditions_at_Site = 7.0    3.106402e-04\n",
       "Special_Conditions_at_Site = 5.0    2.532387e-04\n",
       "Towing_and_Articulation = 3.0       1.674921e-04\n",
       "Vehicle_Type = 90.0                 1.591342e-04\n",
       "Weather_Conditions = 3.0            9.613161e-05\n",
       "Sex_of_Driver = 3.0                 7.938071e-05\n",
       "Road_Surface_Conditions = 3.0       7.045802e-05\n",
       "Vehicle_Type = 23.0                 5.567230e-05\n",
       "Towing_and_Articulation = 5.0       4.492622e-05\n",
       "Special_Conditions_at_Site = 1.0    4.225729e-05\n",
       "Vehicle_Type = 10.0                 3.807153e-05\n",
       "Road_Surface_Conditions = 5.0       2.028458e-06\n",
       "Special_Conditions_at_Site = 2.0    1.457438e-06\n",
       "Special_Conditions_at_Site = 6.0    7.745835e-08\n",
       "Weather_Conditions = 6.0            0.000000e+00\n",
       "Length: 67, dtype: float64"
      ]
     },
     "execution_count": 22,
     "metadata": {},
     "output_type": "execute_result"
    }
   ],
   "source": [
    "feature_importance[:]"
   ]
  },
  {
   "cell_type": "code",
   "execution_count": null,
   "metadata": {},
   "outputs": [],
   "source": [
    "x=['Speed limit = 30 mph','Rural Area','Speed limit = 60 mph','Large Motorcycle','Large Semi-Truck','Female Driver','Dark Lighting']\n",
    "y=[2.521076e-01,2.290131e-01,1.154961e-01,4.549620e-02,3.651953e-02,3.438531e-02,2.948037e-02]\n",
    "plt.bar(x,y)"
   ]
  },
  {
   "cell_type": "markdown",
   "metadata": {},
   "source": [
    "# Predictions\n",
    "**Perform model prediction on the the training dataset.**"
   ]
  },
  {
   "cell_type": "code",
   "execution_count": 13,
   "metadata": {},
   "outputs": [
    {
     "name": "stdout",
     "output_type": "stream",
     "text": [
      "{'status': 'Running', 'starttime': '2019-05-05T20:05:53.491763', 'endtime': None, 'percent_complete': 0, 'job_type': 'RunModel', 'loss': 0.6128493547439575, 'generations': 7, 'dataset_names': ['TRAIN_DATASET.csv'], 'artifact_names': ['ba5a95f9d15b439699bc483a2265193d'], 'model_name': 'Accident_Severity_model020190505200045', 'job_error': ''}\n",
      "{'status': 'Complete', 'starttime': '2019-05-05T20:05:53.491763', 'endtime': '2019-05-05T20:05:55.305056', 'percent_complete': 100, 'job_type': 'RunModel', 'loss': 0.6128493547439575, 'generations': 7, 'dataset_names': ['TRAIN_DATASET.csv'], 'artifact_names': ['ba5a95f9d15b439699bc483a2265193d'], 'model_name': 'Accident_Severity_model020190505200045', 'job_error': ''}\n"
     ]
    },
    {
     "data": {
      "text/plain": [
       "(True, 'Job completed')"
      ]
     },
     "execution_count": 13,
     "metadata": {},
     "output_type": "execute_result"
    }
   ],
   "source": [
    "status, artifact = ds.run_model(TRAIN_DATASET, model)\n",
    "sleep(1)\n",
    "ds.wait_for_job(artifact['job_name'],time_limit=1800)"
   ]
  },
  {
   "cell_type": "markdown",
   "metadata": {},
   "source": [
    "Download predictions from Darwin's server."
   ]
  },
  {
   "cell_type": "code",
   "execution_count": 14,
   "metadata": {},
   "outputs": [
    {
     "data": {
      "text/html": [
       "<div>\n",
       "<style scoped>\n",
       "    .dataframe tbody tr th:only-of-type {\n",
       "        vertical-align: middle;\n",
       "    }\n",
       "\n",
       "    .dataframe tbody tr th {\n",
       "        vertical-align: top;\n",
       "    }\n",
       "\n",
       "    .dataframe thead th {\n",
       "        text-align: right;\n",
       "    }\n",
       "</style>\n",
       "<table border=\"1\" class=\"dataframe\">\n",
       "  <thead>\n",
       "    <tr style=\"text-align: right;\">\n",
       "      <th></th>\n",
       "      <th>Accident_Severity</th>\n",
       "      <th>prob_1.0</th>\n",
       "      <th>prob_3.0</th>\n",
       "    </tr>\n",
       "  </thead>\n",
       "  <tbody>\n",
       "    <tr>\n",
       "      <th>0</th>\n",
       "      <td>3</td>\n",
       "      <td>0.159137</td>\n",
       "      <td>0.840863</td>\n",
       "    </tr>\n",
       "    <tr>\n",
       "      <th>1</th>\n",
       "      <td>1</td>\n",
       "      <td>0.736640</td>\n",
       "      <td>0.263360</td>\n",
       "    </tr>\n",
       "    <tr>\n",
       "      <th>2</th>\n",
       "      <td>1</td>\n",
       "      <td>0.657031</td>\n",
       "      <td>0.342969</td>\n",
       "    </tr>\n",
       "    <tr>\n",
       "      <th>3</th>\n",
       "      <td>1</td>\n",
       "      <td>0.892566</td>\n",
       "      <td>0.107434</td>\n",
       "    </tr>\n",
       "    <tr>\n",
       "      <th>4</th>\n",
       "      <td>3</td>\n",
       "      <td>0.123008</td>\n",
       "      <td>0.876992</td>\n",
       "    </tr>\n",
       "  </tbody>\n",
       "</table>\n",
       "</div>"
      ],
      "text/plain": [
       "   Accident_Severity  prob_1.0  prob_3.0\n",
       "0                  3  0.159137  0.840863\n",
       "1                  1  0.736640  0.263360\n",
       "2                  1  0.657031  0.342969\n",
       "3                  1  0.892566  0.107434\n",
       "4                  3  0.123008  0.876992"
      ]
     },
     "execution_count": 14,
     "metadata": {},
     "output_type": "execute_result"
    }
   ],
   "source": [
    "status, prediction = ds.download_artifact(artifact['artifact_name'])\n",
    "prediction.head()"
   ]
  },
  {
   "cell_type": "markdown",
   "metadata": {},
   "source": [
    "Create plots comparing predictions with actual target"
   ]
  },
  {
   "cell_type": "code",
   "execution_count": 15,
   "metadata": {},
   "outputs": [
    {
     "name": "stdout",
     "output_type": "stream",
     "text": [
      "              precision    recall  f1-score   support\n",
      "\n",
      "         1.0       0.74      0.72      0.73      1806\n",
      "         3.0       0.72      0.74      0.73      1781\n",
      "\n",
      "   micro avg       0.73      0.73      0.73      3587\n",
      "   macro avg       0.73      0.73      0.73      3587\n",
      "weighted avg       0.73      0.73      0.73      3587\n",
      "\n"
     ]
    },
    {
     "data": {
      "image/png": "[encoded data removed]",
      "text/plain": [
       "<Figure size 432x288 with 1 Axes>"
      ]
     },
     "metadata": {
      "needs_background": "light"
     },
     "output_type": "display_data"
    }
   ],
   "source": [
    "unq = prediction[target].unique()[::-1]\n",
    "p = np.zeros((len(prediction),))\n",
    "a = np.zeros((len(prediction),))\n",
    "for i,q in enumerate(unq):\n",
    "    p += i*(prediction[target] == q).values\n",
    "    a += i*(df[target] == q).values\n",
    "#Plot predictions vs actual\n",
    "plt.plot(a)\n",
    "plt.plot(p)\n",
    "plt.legend(['Actual','Predicted'])\n",
    "plt.yticks([i for i in range(len(unq))],[q for q in unq]);\n",
    "print(classification_report(df[target], prediction[target]))"
   ]
  },
  {
   "cell_type": "markdown",
   "metadata": {},
   "source": [
    "**Perform model prediction on a test dataset that wasn't used in training.** <br>\n",
    "Upload test dataset"
   ]
  },
  {
   "cell_type": "code",
   "execution_count": 16,
   "metadata": {},
   "outputs": [],
   "source": [
    "status, dataset = ds.upload_dataset(TEST_DATASET)\n",
    "if not status:\n",
    "    print(dataset)"
   ]
  },
  {
   "cell_type": "markdown",
   "metadata": {},
   "source": [
    "Clean test dataset"
   ]
  },
  {
   "cell_type": "code",
   "execution_count": 17,
   "metadata": {},
   "outputs": [
    {
     "name": "stdout",
     "output_type": "stream",
     "text": [
      "{'status': 'Requested', 'starttime': '2019-05-05T20:06:13.310578', 'endtime': None, 'percent_complete': 0, 'job_type': 'CleanDataTiny', 'loss': None, 'generations': None, 'dataset_names': ['TEST_DATASET.csv'], 'artifact_names': ['e40e16074e1d4e3d8787fb3af4e359f9'], 'model_name': None, 'job_error': None}\n",
      "{'status': 'Complete', 'starttime': '2019-05-05T20:06:13.310578', 'endtime': '2019-05-05T20:06:15.83128', 'percent_complete': 100, 'job_type': 'CleanDataTiny', 'loss': None, 'generations': None, 'dataset_names': ['TEST_DATASET.csv'], 'artifact_names': ['e40e16074e1d4e3d8787fb3af4e359f9'], 'model_name': None, 'job_error': ''}\n"
     ]
    }
   ],
   "source": [
    "# clean test dataset\n",
    "status, job_id = ds.clean_data(TEST_DATASET, target = target, model_name = model)\n",
    "\n",
    "if status:\n",
    "    ds.wait_for_job(job_id['job_name'],time_limit=1800)\n",
    "else:\n",
    "    print(job_id)"
   ]
  },
  {
   "cell_type": "markdown",
   "metadata": {},
   "source": [
    "Run model on test dataset."
   ]
  },
  {
   "cell_type": "code",
   "execution_count": 18,
   "metadata": {},
   "outputs": [
    {
     "name": "stdout",
     "output_type": "stream",
     "text": [
      "{'status': 'Running', 'starttime': '2019-05-05T20:06:29.573208', 'endtime': None, 'percent_complete': 0, 'job_type': 'RunModel', 'loss': 0.6128493547439575, 'generations': 7, 'dataset_names': ['TEST_DATASET.csv'], 'artifact_names': ['24da97b0e6a444caa984a4f4a840edca'], 'model_name': 'Accident_Severity_model020190505200045', 'job_error': ''}\n",
      "{'status': 'Complete', 'starttime': '2019-05-05T20:06:29.573208', 'endtime': '2019-05-05T20:06:31.424203', 'percent_complete': 100, 'job_type': 'RunModel', 'loss': 0.6128493547439575, 'generations': 7, 'dataset_names': ['TEST_DATASET.csv'], 'artifact_names': ['24da97b0e6a444caa984a4f4a840edca'], 'model_name': 'Accident_Severity_model020190505200045', 'job_error': ''}\n"
     ]
    },
    {
     "data": {
      "text/plain": [
       "(True, 'Job completed')"
      ]
     },
     "execution_count": 18,
     "metadata": {},
     "output_type": "execute_result"
    }
   ],
   "source": [
    "status, artifact = ds.run_model(TEST_DATASET, model)\n",
    "sleep(1)\n",
    "ds.wait_for_job(artifact['job_name'],time_limit=1800)"
   ]
  },
  {
   "cell_type": "markdown",
   "metadata": {},
   "source": [
    "Create plots comparing predictions with actual target"
   ]
  },
  {
   "cell_type": "code",
   "execution_count": 19,
   "metadata": {},
   "outputs": [
    {
     "name": "stdout",
     "output_type": "stream",
     "text": [
      "              precision    recall  f1-score   support\n",
      "\n",
      "         1.0       0.69      0.65      0.67       436\n",
      "         3.0       0.68      0.72      0.70       461\n",
      "\n",
      "   micro avg       0.68      0.68      0.68       897\n",
      "   macro avg       0.68      0.68      0.68       897\n",
      "weighted avg       0.68      0.68      0.68       897\n",
      "\n"
     ]
    },
    {
     "data": {
      "image/png": "[encoded data removed]",
      "text/plain": [
       "<Figure size 432x288 with 1 Axes>"
      ]
     },
     "metadata": {
      "needs_background": "light"
     },
     "output_type": "display_data"
    }
   ],
   "source": [
    "# Create plots comparing predictions with actual target\n",
    "status, prediction = ds.download_artifact(artifact['artifact_name'])\n",
    "df = pd.read_csv(TEST_DATASET)\n",
    "unq = prediction[target].unique()[::-1]\n",
    "p = np.zeros((len(prediction),))\n",
    "a = np.zeros((len(prediction),))\n",
    "for i,q in enumerate(unq):\n",
    "    p += i*(prediction[target] == q).values\n",
    "    a += i*(df[target] == q).values\n",
    "#Plot predictions vs actual\n",
    "plt.plot(a)\n",
    "plt.plot(p)\n",
    "plt.legend(['Actual','Predicted'])\n",
    "plt.yticks([i for i in range(len(unq))],[q for q in unq]);\n",
    "print(classification_report(df[target], prediction[target]))"
   ]
  },
  {
   "cell_type": "markdown",
   "metadata": {},
   "source": [
    "## Find out which machine learning model did Darwin use:"
   ]
  },
  {
   "cell_type": "code",
   "execution_count": 20,
   "metadata": {},
   "outputs": [
    {
     "name": "stdout",
     "output_type": "stream",
     "text": [
      "{'type': 'RandomForestClassifier', 'parameters': {}}\n"
     ]
    }
   ],
   "source": [
    "status, model_type = ds.lookup_model_name(model)\n",
    "print(model_type['description']['best_genome'])"
   ]
  },
  {
   "cell_type": "code",
   "execution_count": null,
   "metadata": {},
   "outputs": [],
   "source": []
  }
 ],
 "metadata": {
  "kernelspec": {
   "display_name": "Python 3",
   "language": "python",
   "name": "python3"
  },
  "language_info": {
   "codemirror_mode": {
    "name": "ipython",
    "version": 3
   },
   "file_extension": ".py",
   "mimetype": "text/x-python",
   "name": "python",
   "nbconvert_exporter": "python",
   "pygments_lexer": "ipython3",
   "version": "3.8.3"
  }
 },
 "nbformat": 4,
 "nbformat_minor": 2
}
